{
 "cells": [
  {
   "cell_type": "code",
   "execution_count": 1,
   "metadata": {},
   "outputs": [],
   "source": [
    "import pandas as pd\n",
    "import numpy as np"
   ]
  },
  {
   "cell_type": "code",
   "execution_count": 2,
   "metadata": {},
   "outputs": [
    {
     "name": "stderr",
     "output_type": "stream",
     "text": [
      "C:\\Users\\HP\\Anaconda3\\lib\\site-packages\\IPython\\core\\interactiveshell.py:3058: DtypeWarning: Columns (8,9) have mixed types. Specify dtype option on import or set low_memory=False.\n",
      "  interactivity=interactivity, compiler=compiler, result=result)\n"
     ]
    }
   ],
   "source": [
    "flights=pd.read_csv(\"E:\\\\DATA SCIENCE\\\\projects\\\\Excelr P-1\\\\my viz\\\\new_time_data.csv\")"
   ]
  },
  {
   "cell_type": "code",
   "execution_count": 4,
   "metadata": {},
   "outputs": [],
   "source": [
    "flights=flights.drop(['Unnamed: 0','DATE','SCHEDULED_DEPARTURE','DEPARTURE_TIME','WHEELS_OFF','WHEELS_ON','SCHEDULED_ARRIVAL','ARRIVAL_TIME','DIVERTED','CANCELLED'],axis=1)"
   ]
  },
  {
   "cell_type": "code",
   "execution_count": 5,
   "metadata": {},
   "outputs": [
    {
     "data": {
      "text/plain": [
       "(5819079, 23)"
      ]
     },
     "execution_count": 5,
     "metadata": {},
     "output_type": "execute_result"
    }
   ],
   "source": [
    "flights.shape"
   ]
  },
  {
   "cell_type": "code",
   "execution_count": 6,
   "metadata": {},
   "outputs": [],
   "source": [
    "flights['Scheduled_Departure']=pd.to_datetime(flights['Scheduled_Departure'],errors='coerce')\n",
    "flights['Departure_Time']=pd.to_datetime(flights['Departure_Time'],errors='coerce')\n",
    "flights['Wheels_Off']=pd.to_datetime(flights['Wheels_Off'],errors='coerce')\n",
    "flights['Wheels_On']=pd.to_datetime(flights['Wheels_On'],errors ='coerce')\n",
    "flights['Scheduled_Arrival']=pd.to_datetime(flights['Scheduled_Arrival'],errors='coerce')\n",
    "flights['Arrival_Time']=pd.to_datetime(flights['Arrival_Time'],errors='coerce')"
   ]
  },
  {
   "cell_type": "code",
   "execution_count": 7,
   "metadata": {},
   "outputs": [],
   "source": [
    "flights['Scheduled_dep_hour']=flights['Scheduled_Departure'].dt.hour\n",
    "flights['Scheduled_dep_min']=flights['Scheduled_Departure'].dt.minute\n",
    "flights['Departure_time_hour']=flights['Departure_Time'].dt.hour\n",
    "flights['Departure_time_min']=flights['Departure_Time'].dt.minute\n",
    "flights['Wheels_off_hour']=flights['Wheels_Off'].dt.hour\n",
    "flights['Wheels_off_min']=flights['Wheels_Off'].dt.minute\n",
    "flights['Wheels_on_hour']=flights['Wheels_On'].dt.hour\n",
    "flights['Wheels_on_min']=flights['Wheels_On'].dt.minute\n",
    "flights['Scheduled_arr_hour']=flights['Scheduled_Arrival'].dt.hour\n",
    "flights['Scheduled_arr_min']=flights['Scheduled_Arrival'].dt.minute\n",
    "flights['Arrival_time_hour']=flights['Arrival_Time'].dt.hour\n",
    "flights['Arrival_time_min']=flights['Arrival_Time'].dt.minute"
   ]
  },
  {
   "cell_type": "code",
   "execution_count": 8,
   "metadata": {},
   "outputs": [],
   "source": [
    "varaibles_to_remove=['FLIGHT_NUMBER','TAIL_NUMBER','Scheduled_Departure', 'Departure_Time','TAXI_OUT',\n",
    "       'Wheels_Off', 'ELAPSED_TIME', 'AIR_TIME','Wheels_On', 'TAXI_IN', 'Scheduled_Arrival', 'Arrival_Time',\n",
    "       'Departure_time_hour', 'Departure_time_min', 'Wheels_off_hour',\n",
    "       'Wheels_off_min', 'Wheels_on_hour', 'Wheels_on_min',\n",
    "      'Arrival_time_hour','Arrival_time_min']"
   ]
  },
  {
   "cell_type": "code",
   "execution_count": 9,
   "metadata": {},
   "outputs": [],
   "source": [
    "flights.drop(varaibles_to_remove,axis=1,inplace=True)"
   ]
  },
  {
   "cell_type": "code",
   "execution_count": 10,
   "metadata": {},
   "outputs": [
    {
     "data": {
      "text/plain": [
       "(5819079, 15)"
      ]
     },
     "execution_count": 10,
     "metadata": {},
     "output_type": "execute_result"
    }
   ],
   "source": [
    "flights.shape"
   ]
  },
  {
   "cell_type": "code",
   "execution_count": 11,
   "metadata": {},
   "outputs": [],
   "source": [
    "sampledata=flights.sample(n=500000)"
   ]
  },
  {
   "cell_type": "code",
   "execution_count": 12,
   "metadata": {},
   "outputs": [
    {
     "data": {
      "text/plain": [
       "YEAR                      0\n",
       "MONTH                     0\n",
       "DAY                       0\n",
       "DAY_OF_WEEK               0\n",
       "AIRLINE                   0\n",
       "ORIGIN_AIRPORT            0\n",
       "DESTINATION_AIRPORT       0\n",
       "DEPARTURE_DELAY        7353\n",
       "SCHEDULED_TIME            3\n",
       "DISTANCE                  0\n",
       "ARRIVAL_DELAY          8959\n",
       "Scheduled_dep_hour        0\n",
       "Scheduled_dep_min         0\n",
       "Scheduled_arr_hour        0\n",
       "Scheduled_arr_min         0\n",
       "dtype: int64"
      ]
     },
     "execution_count": 12,
     "metadata": {},
     "output_type": "execute_result"
    }
   ],
   "source": [
    "sampledata.isnull().sum()"
   ]
  },
  {
   "cell_type": "code",
   "execution_count": 13,
   "metadata": {},
   "outputs": [],
   "source": [
    "sampledata=sampledata.dropna()"
   ]
  },
  {
   "cell_type": "code",
   "execution_count": 14,
   "metadata": {},
   "outputs": [],
   "source": [
    "sampledata['DATE']=pd.to_datetime(sampledata[['YEAR','MONTH','DAY']])"
   ]
  },
  {
   "cell_type": "code",
   "execution_count": 15,
   "metadata": {},
   "outputs": [],
   "source": [
    "sampledata['DAY_OF_WEEK']=sampledata['DATE'].dt.weekday_name"
   ]
  },
  {
   "cell_type": "code",
   "execution_count": 16,
   "metadata": {},
   "outputs": [
    {
     "data": {
      "text/plain": [
       "14"
      ]
     },
     "execution_count": 16,
     "metadata": {},
     "output_type": "execute_result"
    }
   ],
   "source": [
    "sampledata.AIRLINE.nunique()"
   ]
  },
  {
   "cell_type": "code",
   "execution_count": 17,
   "metadata": {},
   "outputs": [
    {
     "data": {
      "text/plain": [
       "769"
      ]
     },
     "execution_count": 17,
     "metadata": {},
     "output_type": "execute_result"
    }
   ],
   "source": [
    "len(sampledata.ORIGIN_AIRPORT.unique())"
   ]
  },
  {
   "cell_type": "code",
   "execution_count": 18,
   "metadata": {},
   "outputs": [
    {
     "data": {
      "text/plain": [
       "764"
      ]
     },
     "execution_count": 18,
     "metadata": {},
     "output_type": "execute_result"
    }
   ],
   "source": [
    "len(sampledata.DESTINATION_AIRPORT.unique())"
   ]
  },
  {
   "cell_type": "code",
   "execution_count": 19,
   "metadata": {},
   "outputs": [
    {
     "data": {
      "text/plain": [
       "7"
      ]
     },
     "execution_count": 19,
     "metadata": {},
     "output_type": "execute_result"
    }
   ],
   "source": [
    "sampledata.DAY_OF_WEEK.nunique()"
   ]
  },
  {
   "cell_type": "code",
   "execution_count": 20,
   "metadata": {},
   "outputs": [
    {
     "data": {
      "text/html": [
       "<div>\n",
       "<style scoped>\n",
       "    .dataframe tbody tr th:only-of-type {\n",
       "        vertical-align: middle;\n",
       "    }\n",
       "\n",
       "    .dataframe tbody tr th {\n",
       "        vertical-align: top;\n",
       "    }\n",
       "\n",
       "    .dataframe thead th {\n",
       "        text-align: right;\n",
       "    }\n",
       "</style>\n",
       "<table border=\"1\" class=\"dataframe\">\n",
       "  <thead>\n",
       "    <tr style=\"text-align: right;\">\n",
       "      <th></th>\n",
       "      <th>YEAR</th>\n",
       "      <th>MONTH</th>\n",
       "      <th>DAY</th>\n",
       "      <th>DAY_OF_WEEK</th>\n",
       "      <th>AIRLINE</th>\n",
       "      <th>ORIGIN_AIRPORT</th>\n",
       "      <th>DESTINATION_AIRPORT</th>\n",
       "      <th>DEPARTURE_DELAY</th>\n",
       "      <th>SCHEDULED_TIME</th>\n",
       "      <th>DISTANCE</th>\n",
       "      <th>ARRIVAL_DELAY</th>\n",
       "      <th>Scheduled_dep_hour</th>\n",
       "      <th>Scheduled_dep_min</th>\n",
       "      <th>Scheduled_arr_hour</th>\n",
       "      <th>Scheduled_arr_min</th>\n",
       "      <th>DATE</th>\n",
       "    </tr>\n",
       "  </thead>\n",
       "  <tbody>\n",
       "    <tr>\n",
       "      <td>837736</td>\n",
       "      <td>2015</td>\n",
       "      <td>2</td>\n",
       "      <td>25</td>\n",
       "      <td>Wednesday</td>\n",
       "      <td>EV</td>\n",
       "      <td>PIT</td>\n",
       "      <td>ORD</td>\n",
       "      <td>12.0</td>\n",
       "      <td>102.0</td>\n",
       "      <td>413</td>\n",
       "      <td>49.0</td>\n",
       "      <td>6</td>\n",
       "      <td>0</td>\n",
       "      <td>6</td>\n",
       "      <td>42</td>\n",
       "      <td>2015-02-25</td>\n",
       "    </tr>\n",
       "    <tr>\n",
       "      <td>2038576</td>\n",
       "      <td>2015</td>\n",
       "      <td>5</td>\n",
       "      <td>10</td>\n",
       "      <td>Sunday</td>\n",
       "      <td>MQ</td>\n",
       "      <td>LGA</td>\n",
       "      <td>CHO</td>\n",
       "      <td>61.0</td>\n",
       "      <td>90.0</td>\n",
       "      <td>305</td>\n",
       "      <td>42.0</td>\n",
       "      <td>12</td>\n",
       "      <td>40</td>\n",
       "      <td>14</td>\n",
       "      <td>10</td>\n",
       "      <td>2015-05-10</td>\n",
       "    </tr>\n",
       "    <tr>\n",
       "      <td>209930</td>\n",
       "      <td>2015</td>\n",
       "      <td>1</td>\n",
       "      <td>14</td>\n",
       "      <td>Wednesday</td>\n",
       "      <td>US</td>\n",
       "      <td>IND</td>\n",
       "      <td>CLT</td>\n",
       "      <td>-9.0</td>\n",
       "      <td>95.0</td>\n",
       "      <td>427</td>\n",
       "      <td>-14.0</td>\n",
       "      <td>15</td>\n",
       "      <td>30</td>\n",
       "      <td>17</td>\n",
       "      <td>5</td>\n",
       "      <td>2015-01-14</td>\n",
       "    </tr>\n",
       "    <tr>\n",
       "      <td>5705712</td>\n",
       "      <td>2015</td>\n",
       "      <td>12</td>\n",
       "      <td>24</td>\n",
       "      <td>Thursday</td>\n",
       "      <td>DL</td>\n",
       "      <td>ATL</td>\n",
       "      <td>DTW</td>\n",
       "      <td>198.0</td>\n",
       "      <td>117.0</td>\n",
       "      <td>594</td>\n",
       "      <td>177.0</td>\n",
       "      <td>12</td>\n",
       "      <td>5</td>\n",
       "      <td>14</td>\n",
       "      <td>2</td>\n",
       "      <td>2015-12-24</td>\n",
       "    </tr>\n",
       "    <tr>\n",
       "      <td>621398</td>\n",
       "      <td>2015</td>\n",
       "      <td>2</td>\n",
       "      <td>11</td>\n",
       "      <td>Wednesday</td>\n",
       "      <td>DL</td>\n",
       "      <td>DAY</td>\n",
       "      <td>ATL</td>\n",
       "      <td>-2.0</td>\n",
       "      <td>119.0</td>\n",
       "      <td>432</td>\n",
       "      <td>11.0</td>\n",
       "      <td>6</td>\n",
       "      <td>50</td>\n",
       "      <td>8</td>\n",
       "      <td>49</td>\n",
       "      <td>2015-02-11</td>\n",
       "    </tr>\n",
       "  </tbody>\n",
       "</table>\n",
       "</div>"
      ],
      "text/plain": [
       "         YEAR  MONTH  DAY DAY_OF_WEEK AIRLINE ORIGIN_AIRPORT  \\\n",
       "837736   2015      2   25   Wednesday      EV            PIT   \n",
       "2038576  2015      5   10      Sunday      MQ            LGA   \n",
       "209930   2015      1   14   Wednesday      US            IND   \n",
       "5705712  2015     12   24    Thursday      DL            ATL   \n",
       "621398   2015      2   11   Wednesday      DL            DAY   \n",
       "\n",
       "        DESTINATION_AIRPORT  DEPARTURE_DELAY  SCHEDULED_TIME  DISTANCE  \\\n",
       "837736                  ORD             12.0           102.0       413   \n",
       "2038576                 CHO             61.0            90.0       305   \n",
       "209930                  CLT             -9.0            95.0       427   \n",
       "5705712                 DTW            198.0           117.0       594   \n",
       "621398                  ATL             -2.0           119.0       432   \n",
       "\n",
       "         ARRIVAL_DELAY  Scheduled_dep_hour  Scheduled_dep_min  \\\n",
       "837736            49.0                   6                  0   \n",
       "2038576           42.0                  12                 40   \n",
       "209930           -14.0                  15                 30   \n",
       "5705712          177.0                  12                  5   \n",
       "621398            11.0                   6                 50   \n",
       "\n",
       "         Scheduled_arr_hour  Scheduled_arr_min       DATE  \n",
       "837736                    6                 42 2015-02-25  \n",
       "2038576                  14                 10 2015-05-10  \n",
       "209930                   17                  5 2015-01-14  \n",
       "5705712                  14                  2 2015-12-24  \n",
       "621398                    8                 49 2015-02-11  "
      ]
     },
     "execution_count": 20,
     "metadata": {},
     "output_type": "execute_result"
    }
   ],
   "source": [
    "sampledata.head()"
   ]
  },
  {
   "cell_type": "code",
   "execution_count": 21,
   "metadata": {},
   "outputs": [],
   "source": [
    "sampledata.drop(['YEAR','DATE'],axis=1,inplace=True)"
   ]
  },
  {
   "cell_type": "code",
   "execution_count": 22,
   "metadata": {},
   "outputs": [],
   "source": [
    "airport = pd.read_csv(\"E:\\\\DATA SCIENCE\\\\projects\\\\Excelr P-1\\\\Kaggle\\\\airports.csv\")"
   ]
  },
  {
   "cell_type": "code",
   "execution_count": 23,
   "metadata": {},
   "outputs": [],
   "source": [
    "sampledata.loc[~sampledata.ORIGIN_AIRPORT.isin(airport.IATA_CODE.values),'ORIGIN_AIRPORT']='OTHER'\n",
    "sampledata.loc[~sampledata.DESTINATION_AIRPORT.isin(airport.IATA_CODE.values),'DESTINATION_AIRPORT']='OTHER'"
   ]
  },
  {
   "cell_type": "code",
   "execution_count": 24,
   "metadata": {},
   "outputs": [
    {
     "data": {
      "text/html": [
       "<div>\n",
       "<style scoped>\n",
       "    .dataframe tbody tr th:only-of-type {\n",
       "        vertical-align: middle;\n",
       "    }\n",
       "\n",
       "    .dataframe tbody tr th {\n",
       "        vertical-align: top;\n",
       "    }\n",
       "\n",
       "    .dataframe thead th {\n",
       "        text-align: right;\n",
       "    }\n",
       "</style>\n",
       "<table border=\"1\" class=\"dataframe\">\n",
       "  <thead>\n",
       "    <tr style=\"text-align: right;\">\n",
       "      <th></th>\n",
       "      <th>MONTH</th>\n",
       "      <th>DAY</th>\n",
       "      <th>DAY_OF_WEEK</th>\n",
       "      <th>AIRLINE</th>\n",
       "      <th>ORIGIN_AIRPORT</th>\n",
       "      <th>DESTINATION_AIRPORT</th>\n",
       "      <th>DEPARTURE_DELAY</th>\n",
       "      <th>SCHEDULED_TIME</th>\n",
       "      <th>DISTANCE</th>\n",
       "      <th>ARRIVAL_DELAY</th>\n",
       "      <th>Scheduled_dep_hour</th>\n",
       "      <th>Scheduled_dep_min</th>\n",
       "      <th>Scheduled_arr_hour</th>\n",
       "      <th>Scheduled_arr_min</th>\n",
       "    </tr>\n",
       "  </thead>\n",
       "  <tbody>\n",
       "    <tr>\n",
       "      <td>837736</td>\n",
       "      <td>2</td>\n",
       "      <td>25</td>\n",
       "      <td>Wednesday</td>\n",
       "      <td>EV</td>\n",
       "      <td>PIT</td>\n",
       "      <td>ORD</td>\n",
       "      <td>12.0</td>\n",
       "      <td>102.0</td>\n",
       "      <td>413</td>\n",
       "      <td>49.0</td>\n",
       "      <td>6</td>\n",
       "      <td>0</td>\n",
       "      <td>6</td>\n",
       "      <td>42</td>\n",
       "    </tr>\n",
       "    <tr>\n",
       "      <td>2038576</td>\n",
       "      <td>5</td>\n",
       "      <td>10</td>\n",
       "      <td>Sunday</td>\n",
       "      <td>MQ</td>\n",
       "      <td>LGA</td>\n",
       "      <td>CHO</td>\n",
       "      <td>61.0</td>\n",
       "      <td>90.0</td>\n",
       "      <td>305</td>\n",
       "      <td>42.0</td>\n",
       "      <td>12</td>\n",
       "      <td>40</td>\n",
       "      <td>14</td>\n",
       "      <td>10</td>\n",
       "    </tr>\n",
       "    <tr>\n",
       "      <td>209930</td>\n",
       "      <td>1</td>\n",
       "      <td>14</td>\n",
       "      <td>Wednesday</td>\n",
       "      <td>US</td>\n",
       "      <td>IND</td>\n",
       "      <td>CLT</td>\n",
       "      <td>-9.0</td>\n",
       "      <td>95.0</td>\n",
       "      <td>427</td>\n",
       "      <td>-14.0</td>\n",
       "      <td>15</td>\n",
       "      <td>30</td>\n",
       "      <td>17</td>\n",
       "      <td>5</td>\n",
       "    </tr>\n",
       "    <tr>\n",
       "      <td>5705712</td>\n",
       "      <td>12</td>\n",
       "      <td>24</td>\n",
       "      <td>Thursday</td>\n",
       "      <td>DL</td>\n",
       "      <td>ATL</td>\n",
       "      <td>DTW</td>\n",
       "      <td>198.0</td>\n",
       "      <td>117.0</td>\n",
       "      <td>594</td>\n",
       "      <td>177.0</td>\n",
       "      <td>12</td>\n",
       "      <td>5</td>\n",
       "      <td>14</td>\n",
       "      <td>2</td>\n",
       "    </tr>\n",
       "    <tr>\n",
       "      <td>621398</td>\n",
       "      <td>2</td>\n",
       "      <td>11</td>\n",
       "      <td>Wednesday</td>\n",
       "      <td>DL</td>\n",
       "      <td>DAY</td>\n",
       "      <td>ATL</td>\n",
       "      <td>-2.0</td>\n",
       "      <td>119.0</td>\n",
       "      <td>432</td>\n",
       "      <td>11.0</td>\n",
       "      <td>6</td>\n",
       "      <td>50</td>\n",
       "      <td>8</td>\n",
       "      <td>49</td>\n",
       "    </tr>\n",
       "  </tbody>\n",
       "</table>\n",
       "</div>"
      ],
      "text/plain": [
       "         MONTH  DAY DAY_OF_WEEK AIRLINE ORIGIN_AIRPORT DESTINATION_AIRPORT  \\\n",
       "837736       2   25   Wednesday      EV            PIT                 ORD   \n",
       "2038576      5   10      Sunday      MQ            LGA                 CHO   \n",
       "209930       1   14   Wednesday      US            IND                 CLT   \n",
       "5705712     12   24    Thursday      DL            ATL                 DTW   \n",
       "621398       2   11   Wednesday      DL            DAY                 ATL   \n",
       "\n",
       "         DEPARTURE_DELAY  SCHEDULED_TIME  DISTANCE  ARRIVAL_DELAY  \\\n",
       "837736              12.0           102.0       413           49.0   \n",
       "2038576             61.0            90.0       305           42.0   \n",
       "209930              -9.0            95.0       427          -14.0   \n",
       "5705712            198.0           117.0       594          177.0   \n",
       "621398              -2.0           119.0       432           11.0   \n",
       "\n",
       "         Scheduled_dep_hour  Scheduled_dep_min  Scheduled_arr_hour  \\\n",
       "837736                    6                  0                   6   \n",
       "2038576                  12                 40                  14   \n",
       "209930                   15                 30                  17   \n",
       "5705712                  12                  5                  14   \n",
       "621398                    6                 50                   8   \n",
       "\n",
       "         Scheduled_arr_min  \n",
       "837736                  42  \n",
       "2038576                 10  \n",
       "209930                   5  \n",
       "5705712                  2  \n",
       "621398                  49  "
      ]
     },
     "execution_count": 24,
     "metadata": {},
     "output_type": "execute_result"
    }
   ],
   "source": [
    "sampledata.head()"
   ]
  },
  {
   "cell_type": "code",
   "execution_count": 25,
   "metadata": {},
   "outputs": [
    {
     "data": {
      "text/plain": [
       "323"
      ]
     },
     "execution_count": 25,
     "metadata": {},
     "output_type": "execute_result"
    }
   ],
   "source": [
    "sampledata.ORIGIN_AIRPORT.nunique()"
   ]
  },
  {
   "cell_type": "code",
   "execution_count": 26,
   "metadata": {},
   "outputs": [
    {
     "data": {
      "text/html": [
       "<div>\n",
       "<style scoped>\n",
       "    .dataframe tbody tr th:only-of-type {\n",
       "        vertical-align: middle;\n",
       "    }\n",
       "\n",
       "    .dataframe tbody tr th {\n",
       "        vertical-align: top;\n",
       "    }\n",
       "\n",
       "    .dataframe thead th {\n",
       "        text-align: right;\n",
       "    }\n",
       "</style>\n",
       "<table border=\"1\" class=\"dataframe\">\n",
       "  <thead>\n",
       "    <tr style=\"text-align: right;\">\n",
       "      <th></th>\n",
       "      <th>Friday</th>\n",
       "      <th>Monday</th>\n",
       "      <th>Saturday</th>\n",
       "      <th>Sunday</th>\n",
       "      <th>Thursday</th>\n",
       "      <th>Tuesday</th>\n",
       "      <th>Wednesday</th>\n",
       "    </tr>\n",
       "  </thead>\n",
       "  <tbody>\n",
       "    <tr>\n",
       "      <td>837736</td>\n",
       "      <td>0</td>\n",
       "      <td>0</td>\n",
       "      <td>0</td>\n",
       "      <td>0</td>\n",
       "      <td>0</td>\n",
       "      <td>0</td>\n",
       "      <td>1</td>\n",
       "    </tr>\n",
       "    <tr>\n",
       "      <td>2038576</td>\n",
       "      <td>0</td>\n",
       "      <td>0</td>\n",
       "      <td>0</td>\n",
       "      <td>1</td>\n",
       "      <td>0</td>\n",
       "      <td>0</td>\n",
       "      <td>0</td>\n",
       "    </tr>\n",
       "    <tr>\n",
       "      <td>209930</td>\n",
       "      <td>0</td>\n",
       "      <td>0</td>\n",
       "      <td>0</td>\n",
       "      <td>0</td>\n",
       "      <td>0</td>\n",
       "      <td>0</td>\n",
       "      <td>1</td>\n",
       "    </tr>\n",
       "  </tbody>\n",
       "</table>\n",
       "</div>"
      ],
      "text/plain": [
       "         Friday  Monday  Saturday  Sunday  Thursday  Tuesday  Wednesday\n",
       "837736        0       0         0       0         0        0          1\n",
       "2038576       0       0         0       1         0        0          0\n",
       "209930        0       0         0       0         0        0          1"
      ]
     },
     "execution_count": 26,
     "metadata": {},
     "output_type": "execute_result"
    }
   ],
   "source": [
    "dummies1=pd.get_dummies(sampledata.DAY_OF_WEEK)\n",
    "dummies1.head(3)"
   ]
  },
  {
   "cell_type": "code",
   "execution_count": 27,
   "metadata": {},
   "outputs": [
    {
     "data": {
      "text/html": [
       "<div>\n",
       "<style scoped>\n",
       "    .dataframe tbody tr th:only-of-type {\n",
       "        vertical-align: middle;\n",
       "    }\n",
       "\n",
       "    .dataframe tbody tr th {\n",
       "        vertical-align: top;\n",
       "    }\n",
       "\n",
       "    .dataframe thead th {\n",
       "        text-align: right;\n",
       "    }\n",
       "</style>\n",
       "<table border=\"1\" class=\"dataframe\">\n",
       "  <thead>\n",
       "    <tr style=\"text-align: right;\">\n",
       "      <th></th>\n",
       "      <th>AA</th>\n",
       "      <th>AS</th>\n",
       "      <th>B6</th>\n",
       "      <th>DL</th>\n",
       "      <th>EV</th>\n",
       "      <th>F9</th>\n",
       "      <th>HA</th>\n",
       "      <th>MQ</th>\n",
       "      <th>NK</th>\n",
       "      <th>OO</th>\n",
       "      <th>UA</th>\n",
       "      <th>US</th>\n",
       "      <th>VX</th>\n",
       "      <th>WN</th>\n",
       "    </tr>\n",
       "  </thead>\n",
       "  <tbody>\n",
       "    <tr>\n",
       "      <td>837736</td>\n",
       "      <td>0</td>\n",
       "      <td>0</td>\n",
       "      <td>0</td>\n",
       "      <td>0</td>\n",
       "      <td>1</td>\n",
       "      <td>0</td>\n",
       "      <td>0</td>\n",
       "      <td>0</td>\n",
       "      <td>0</td>\n",
       "      <td>0</td>\n",
       "      <td>0</td>\n",
       "      <td>0</td>\n",
       "      <td>0</td>\n",
       "      <td>0</td>\n",
       "    </tr>\n",
       "    <tr>\n",
       "      <td>2038576</td>\n",
       "      <td>0</td>\n",
       "      <td>0</td>\n",
       "      <td>0</td>\n",
       "      <td>0</td>\n",
       "      <td>0</td>\n",
       "      <td>0</td>\n",
       "      <td>0</td>\n",
       "      <td>1</td>\n",
       "      <td>0</td>\n",
       "      <td>0</td>\n",
       "      <td>0</td>\n",
       "      <td>0</td>\n",
       "      <td>0</td>\n",
       "      <td>0</td>\n",
       "    </tr>\n",
       "    <tr>\n",
       "      <td>209930</td>\n",
       "      <td>0</td>\n",
       "      <td>0</td>\n",
       "      <td>0</td>\n",
       "      <td>0</td>\n",
       "      <td>0</td>\n",
       "      <td>0</td>\n",
       "      <td>0</td>\n",
       "      <td>0</td>\n",
       "      <td>0</td>\n",
       "      <td>0</td>\n",
       "      <td>0</td>\n",
       "      <td>1</td>\n",
       "      <td>0</td>\n",
       "      <td>0</td>\n",
       "    </tr>\n",
       "  </tbody>\n",
       "</table>\n",
       "</div>"
      ],
      "text/plain": [
       "         AA  AS  B6  DL  EV  F9  HA  MQ  NK  OO  UA  US  VX  WN\n",
       "837736    0   0   0   0   1   0   0   0   0   0   0   0   0   0\n",
       "2038576   0   0   0   0   0   0   0   1   0   0   0   0   0   0\n",
       "209930    0   0   0   0   0   0   0   0   0   0   0   1   0   0"
      ]
     },
     "execution_count": 27,
     "metadata": {},
     "output_type": "execute_result"
    }
   ],
   "source": [
    "dummies2=pd.get_dummies(sampledata.AIRLINE)\n",
    "dummies2.head(3)"
   ]
  },
  {
   "cell_type": "code",
   "execution_count": 28,
   "metadata": {},
   "outputs": [
    {
     "data": {
      "text/html": [
       "<div>\n",
       "<style scoped>\n",
       "    .dataframe tbody tr th:only-of-type {\n",
       "        vertical-align: middle;\n",
       "    }\n",
       "\n",
       "    .dataframe tbody tr th {\n",
       "        vertical-align: top;\n",
       "    }\n",
       "\n",
       "    .dataframe thead th {\n",
       "        text-align: right;\n",
       "    }\n",
       "</style>\n",
       "<table border=\"1\" class=\"dataframe\">\n",
       "  <thead>\n",
       "    <tr style=\"text-align: right;\">\n",
       "      <th></th>\n",
       "      <th>ABE</th>\n",
       "      <th>ABI</th>\n",
       "      <th>ABQ</th>\n",
       "      <th>ABR</th>\n",
       "      <th>ABY</th>\n",
       "      <th>ACK</th>\n",
       "      <th>ACT</th>\n",
       "      <th>ACV</th>\n",
       "      <th>ACY</th>\n",
       "      <th>ADK</th>\n",
       "      <th>...</th>\n",
       "      <th>TYS</th>\n",
       "      <th>UST</th>\n",
       "      <th>VEL</th>\n",
       "      <th>VLD</th>\n",
       "      <th>VPS</th>\n",
       "      <th>WRG</th>\n",
       "      <th>WYS</th>\n",
       "      <th>XNA</th>\n",
       "      <th>YAK</th>\n",
       "      <th>YUM</th>\n",
       "    </tr>\n",
       "  </thead>\n",
       "  <tbody>\n",
       "    <tr>\n",
       "      <td>837736</td>\n",
       "      <td>0</td>\n",
       "      <td>0</td>\n",
       "      <td>0</td>\n",
       "      <td>0</td>\n",
       "      <td>0</td>\n",
       "      <td>0</td>\n",
       "      <td>0</td>\n",
       "      <td>0</td>\n",
       "      <td>0</td>\n",
       "      <td>0</td>\n",
       "      <td>...</td>\n",
       "      <td>0</td>\n",
       "      <td>0</td>\n",
       "      <td>0</td>\n",
       "      <td>0</td>\n",
       "      <td>0</td>\n",
       "      <td>0</td>\n",
       "      <td>0</td>\n",
       "      <td>0</td>\n",
       "      <td>0</td>\n",
       "      <td>0</td>\n",
       "    </tr>\n",
       "    <tr>\n",
       "      <td>2038576</td>\n",
       "      <td>0</td>\n",
       "      <td>0</td>\n",
       "      <td>0</td>\n",
       "      <td>0</td>\n",
       "      <td>0</td>\n",
       "      <td>0</td>\n",
       "      <td>0</td>\n",
       "      <td>0</td>\n",
       "      <td>0</td>\n",
       "      <td>0</td>\n",
       "      <td>...</td>\n",
       "      <td>0</td>\n",
       "      <td>0</td>\n",
       "      <td>0</td>\n",
       "      <td>0</td>\n",
       "      <td>0</td>\n",
       "      <td>0</td>\n",
       "      <td>0</td>\n",
       "      <td>0</td>\n",
       "      <td>0</td>\n",
       "      <td>0</td>\n",
       "    </tr>\n",
       "    <tr>\n",
       "      <td>209930</td>\n",
       "      <td>0</td>\n",
       "      <td>0</td>\n",
       "      <td>0</td>\n",
       "      <td>0</td>\n",
       "      <td>0</td>\n",
       "      <td>0</td>\n",
       "      <td>0</td>\n",
       "      <td>0</td>\n",
       "      <td>0</td>\n",
       "      <td>0</td>\n",
       "      <td>...</td>\n",
       "      <td>0</td>\n",
       "      <td>0</td>\n",
       "      <td>0</td>\n",
       "      <td>0</td>\n",
       "      <td>0</td>\n",
       "      <td>0</td>\n",
       "      <td>0</td>\n",
       "      <td>0</td>\n",
       "      <td>0</td>\n",
       "      <td>0</td>\n",
       "    </tr>\n",
       "  </tbody>\n",
       "</table>\n",
       "<p>3 rows × 323 columns</p>\n",
       "</div>"
      ],
      "text/plain": [
       "         ABE  ABI  ABQ  ABR  ABY  ACK  ACT  ACV  ACY  ADK  ...  TYS  UST  VEL  \\\n",
       "837736     0    0    0    0    0    0    0    0    0    0  ...    0    0    0   \n",
       "2038576    0    0    0    0    0    0    0    0    0    0  ...    0    0    0   \n",
       "209930     0    0    0    0    0    0    0    0    0    0  ...    0    0    0   \n",
       "\n",
       "         VLD  VPS  WRG  WYS  XNA  YAK  YUM  \n",
       "837736     0    0    0    0    0    0    0  \n",
       "2038576    0    0    0    0    0    0    0  \n",
       "209930     0    0    0    0    0    0    0  \n",
       "\n",
       "[3 rows x 323 columns]"
      ]
     },
     "execution_count": 28,
     "metadata": {},
     "output_type": "execute_result"
    }
   ],
   "source": [
    "dummies3=pd.get_dummies(sampledata.ORIGIN_AIRPORT)\n",
    "dummies3.head(3)"
   ]
  },
  {
   "cell_type": "code",
   "execution_count": 29,
   "metadata": {},
   "outputs": [
    {
     "data": {
      "text/html": [
       "<div>\n",
       "<style scoped>\n",
       "    .dataframe tbody tr th:only-of-type {\n",
       "        vertical-align: middle;\n",
       "    }\n",
       "\n",
       "    .dataframe tbody tr th {\n",
       "        vertical-align: top;\n",
       "    }\n",
       "\n",
       "    .dataframe thead th {\n",
       "        text-align: right;\n",
       "    }\n",
       "</style>\n",
       "<table border=\"1\" class=\"dataframe\">\n",
       "  <thead>\n",
       "    <tr style=\"text-align: right;\">\n",
       "      <th></th>\n",
       "      <th>ABE</th>\n",
       "      <th>ABI</th>\n",
       "      <th>ABQ</th>\n",
       "      <th>ABR</th>\n",
       "      <th>ABY</th>\n",
       "      <th>ACK</th>\n",
       "      <th>ACT</th>\n",
       "      <th>ACV</th>\n",
       "      <th>ACY</th>\n",
       "      <th>ADK</th>\n",
       "      <th>...</th>\n",
       "      <th>TYS</th>\n",
       "      <th>UST</th>\n",
       "      <th>VEL</th>\n",
       "      <th>VLD</th>\n",
       "      <th>VPS</th>\n",
       "      <th>WRG</th>\n",
       "      <th>WYS</th>\n",
       "      <th>XNA</th>\n",
       "      <th>YAK</th>\n",
       "      <th>YUM</th>\n",
       "    </tr>\n",
       "  </thead>\n",
       "  <tbody>\n",
       "    <tr>\n",
       "      <td>837736</td>\n",
       "      <td>0</td>\n",
       "      <td>0</td>\n",
       "      <td>0</td>\n",
       "      <td>0</td>\n",
       "      <td>0</td>\n",
       "      <td>0</td>\n",
       "      <td>0</td>\n",
       "      <td>0</td>\n",
       "      <td>0</td>\n",
       "      <td>0</td>\n",
       "      <td>...</td>\n",
       "      <td>0</td>\n",
       "      <td>0</td>\n",
       "      <td>0</td>\n",
       "      <td>0</td>\n",
       "      <td>0</td>\n",
       "      <td>0</td>\n",
       "      <td>0</td>\n",
       "      <td>0</td>\n",
       "      <td>0</td>\n",
       "      <td>0</td>\n",
       "    </tr>\n",
       "    <tr>\n",
       "      <td>2038576</td>\n",
       "      <td>0</td>\n",
       "      <td>0</td>\n",
       "      <td>0</td>\n",
       "      <td>0</td>\n",
       "      <td>0</td>\n",
       "      <td>0</td>\n",
       "      <td>0</td>\n",
       "      <td>0</td>\n",
       "      <td>0</td>\n",
       "      <td>0</td>\n",
       "      <td>...</td>\n",
       "      <td>0</td>\n",
       "      <td>0</td>\n",
       "      <td>0</td>\n",
       "      <td>0</td>\n",
       "      <td>0</td>\n",
       "      <td>0</td>\n",
       "      <td>0</td>\n",
       "      <td>0</td>\n",
       "      <td>0</td>\n",
       "      <td>0</td>\n",
       "    </tr>\n",
       "    <tr>\n",
       "      <td>209930</td>\n",
       "      <td>0</td>\n",
       "      <td>0</td>\n",
       "      <td>0</td>\n",
       "      <td>0</td>\n",
       "      <td>0</td>\n",
       "      <td>0</td>\n",
       "      <td>0</td>\n",
       "      <td>0</td>\n",
       "      <td>0</td>\n",
       "      <td>0</td>\n",
       "      <td>...</td>\n",
       "      <td>0</td>\n",
       "      <td>0</td>\n",
       "      <td>0</td>\n",
       "      <td>0</td>\n",
       "      <td>0</td>\n",
       "      <td>0</td>\n",
       "      <td>0</td>\n",
       "      <td>0</td>\n",
       "      <td>0</td>\n",
       "      <td>0</td>\n",
       "    </tr>\n",
       "  </tbody>\n",
       "</table>\n",
       "<p>3 rows × 323 columns</p>\n",
       "</div>"
      ],
      "text/plain": [
       "         ABE  ABI  ABQ  ABR  ABY  ACK  ACT  ACV  ACY  ADK  ...  TYS  UST  VEL  \\\n",
       "837736     0    0    0    0    0    0    0    0    0    0  ...    0    0    0   \n",
       "2038576    0    0    0    0    0    0    0    0    0    0  ...    0    0    0   \n",
       "209930     0    0    0    0    0    0    0    0    0    0  ...    0    0    0   \n",
       "\n",
       "         VLD  VPS  WRG  WYS  XNA  YAK  YUM  \n",
       "837736     0    0    0    0    0    0    0  \n",
       "2038576    0    0    0    0    0    0    0  \n",
       "209930     0    0    0    0    0    0    0  \n",
       "\n",
       "[3 rows x 323 columns]"
      ]
     },
     "execution_count": 29,
     "metadata": {},
     "output_type": "execute_result"
    }
   ],
   "source": [
    "dummies4=pd.get_dummies(sampledata.DESTINATION_AIRPORT)\n",
    "dummies4.head(3)"
   ]
  },
  {
   "cell_type": "code",
   "execution_count": 30,
   "metadata": {},
   "outputs": [
    {
     "data": {
      "text/plain": [
       "(491041, 21)"
      ]
     },
     "execution_count": 30,
     "metadata": {},
     "output_type": "execute_result"
    }
   ],
   "source": [
    "flights1=pd.concat([sampledata,dummies1],axis='columns')\n",
    "flights1.shape"
   ]
  },
  {
   "cell_type": "code",
   "execution_count": 31,
   "metadata": {},
   "outputs": [
    {
     "data": {
      "text/plain": [
       "(491041, 35)"
      ]
     },
     "execution_count": 31,
     "metadata": {},
     "output_type": "execute_result"
    }
   ],
   "source": [
    "flights2=pd.concat([flights1,dummies2],axis='columns')\n",
    "flights2.shape"
   ]
  },
  {
   "cell_type": "code",
   "execution_count": 32,
   "metadata": {},
   "outputs": [
    {
     "data": {
      "text/plain": [
       "(491041, 358)"
      ]
     },
     "execution_count": 32,
     "metadata": {},
     "output_type": "execute_result"
    }
   ],
   "source": [
    "flights3=pd.concat([flights2,dummies3],axis='columns')\n",
    "flights3.shape"
   ]
  },
  {
   "cell_type": "code",
   "execution_count": 33,
   "metadata": {},
   "outputs": [
    {
     "data": {
      "text/plain": [
       "(491041, 681)"
      ]
     },
     "execution_count": 33,
     "metadata": {},
     "output_type": "execute_result"
    }
   ],
   "source": [
    "flights4=pd.concat([flights3,dummies4],axis='columns')\n",
    "flights4.shape"
   ]
  },
  {
   "cell_type": "code",
   "execution_count": 34,
   "metadata": {},
   "outputs": [],
   "source": [
    "flights5=flights4"
   ]
  },
  {
   "cell_type": "code",
   "execution_count": 35,
   "metadata": {},
   "outputs": [],
   "source": [
    "flights5=flights5.drop(['DAY_OF_WEEK','AIRLINE','ORIGIN_AIRPORT','DESTINATION_AIRPORT'],axis=1)"
   ]
  },
  {
   "cell_type": "code",
   "execution_count": 36,
   "metadata": {},
   "outputs": [],
   "source": [
    "flights5=flights5.dropna()"
   ]
  },
  {
   "cell_type": "markdown",
   "metadata": {},
   "source": [
    "## Model1"
   ]
  },
  {
   "cell_type": "code",
   "execution_count": 37,
   "metadata": {},
   "outputs": [],
   "source": [
    "X1=flights5.drop(['DEPARTURE_DELAY'],axis='columns')\n",
    "Y1=flights5.DEPARTURE_DELAY"
   ]
  },
  {
   "cell_type": "code",
   "execution_count": 38,
   "metadata": {},
   "outputs": [],
   "source": [
    "from sklearn.model_selection import train_test_split\n",
    "X1_train,X1_test,y1_train,y1_test=train_test_split(X1,Y1,test_size=0.2,random_state=10)"
   ]
  },
  {
   "cell_type": "code",
   "execution_count": 40,
   "metadata": {},
   "outputs": [
    {
     "data": {
      "text/plain": [
       "GradientBoostingRegressor(alpha=0.9, criterion='friedman_mse', init=None,\n",
       "                          learning_rate=1.0, loss='ls', max_depth=3,\n",
       "                          max_features=None, max_leaf_nodes=None,\n",
       "                          min_impurity_decrease=0.0, min_impurity_split=None,\n",
       "                          min_samples_leaf=1, min_samples_split=2,\n",
       "                          min_weight_fraction_leaf=0.0, n_estimators=100,\n",
       "                          n_iter_no_change=None, presort='auto',\n",
       "                          random_state=None, subsample=1.0, tol=0.0001,\n",
       "                          validation_fraction=0.1, verbose=0, warm_start=False)"
      ]
     },
     "execution_count": 40,
     "metadata": {},
     "output_type": "execute_result"
    }
   ],
   "source": [
    "from sklearn.ensemble import GradientBoostingRegressor\n",
    "gbr=GradientBoostingRegressor(n_estimators=100,max_depth=3,learning_rate=1.0)\n",
    "gbr.fit(X1_train,y1_train)"
   ]
  },
  {
   "cell_type": "code",
   "execution_count": 41,
   "metadata": {},
   "outputs": [],
   "source": [
    "y1_pred = gbr.predict(X1_test)"
   ]
  },
  {
   "cell_type": "code",
   "execution_count": 42,
   "metadata": {},
   "outputs": [
    {
     "name": "stdout",
     "output_type": "stream",
     "text": [
      "Mean Absolute Error: 5.91108771336616\n",
      "Mean Squared Error: 93.96076763385878\n",
      "Root Mean Squared Error: 9.693336248880401\n"
     ]
    }
   ],
   "source": [
    "from sklearn import metrics\n",
    "print('Mean Absolute Error:', metrics.mean_absolute_error(y1_test, y1_pred))\n",
    "print('Mean Squared Error:', metrics.mean_squared_error(y1_test, y1_pred))\n",
    "print('Root Mean Squared Error:', np.sqrt(metrics.mean_squared_error(y1_test, y1_pred)))"
   ]
  },
  {
   "cell_type": "code",
   "execution_count": 43,
   "metadata": {},
   "outputs": [
    {
     "data": {
      "text/plain": [
       "0.9295440661140535"
      ]
     },
     "execution_count": 43,
     "metadata": {},
     "output_type": "execute_result"
    }
   ],
   "source": [
    "gbr.score(X1_test, y1_test)"
   ]
  },
  {
   "cell_type": "code",
   "execution_count": 44,
   "metadata": {},
   "outputs": [
    {
     "data": {
      "text/plain": [
       "0.93622983955625"
      ]
     },
     "execution_count": 44,
     "metadata": {},
     "output_type": "execute_result"
    }
   ],
   "source": [
    "gbr.score(X1_train, y1_train)"
   ]
  },
  {
   "cell_type": "code",
   "execution_count": 45,
   "metadata": {},
   "outputs": [],
   "source": [
    "def predict_delay6(MONTH, DAY, DAY_OF_WEEK, AIRLINE, ORIGIN_AIRPORT,\n",
    "       DESTINATION_AIRPORT, SCHEDULED_TIME, DISTANCE,\n",
    "       ARRIVAL_DELAY, Scheduled_dep_hour, Scheduled_dep_min,\n",
    "       Scheduled_arr_hour, Scheduled_arr_min):    \n",
    "    DAY_OF_WEEK_index = np.where(X1.columns==DAY_OF_WEEK)[0][0]\n",
    "    AIRLINE_index = np.where(X1.columns==AIRLINE)[0][0]\n",
    "    ORIGIN_AIRPORT_index = np.where(X1.columns==ORIGIN_AIRPORT)[0][0]\n",
    "    DESTINATION_AIRPORT_index = np.where(X1.columns==DESTINATION_AIRPORT)[0][0]\n",
    "\n",
    "    x6 = np.zeros(len(X1.columns))\n",
    "    x6[0] = MONTH\n",
    "    x6[1] = DAY\n",
    "    x6[2] = SCHEDULED_TIME\n",
    "    x6[3] = DISTANCE\n",
    "    x6[4] = ARRIVAL_DELAY\n",
    "    x6[5] = Scheduled_dep_hour\n",
    "    x6[6] = Scheduled_dep_min\n",
    "    x6[7] = Scheduled_arr_hour\n",
    "    x6[8] = Scheduled_arr_min\n",
    "    if  DAY_OF_WEEK_index >= 0:\n",
    "        x6[ DAY_OF_WEEK_index] = 1\n",
    "        \n",
    "    if  AIRLINE_index >= 0:\n",
    "        x6[ AIRLINE_index] = 1\n",
    "        \n",
    "    if  ORIGIN_AIRPORT_index >= 0:\n",
    "        x6[ ORIGIN_AIRPORT_index] = 1\n",
    "        \n",
    "    if  DESTINATION_AIRPORT_index >= 0:\n",
    "        x6[ DESTINATION_AIRPORT_index] = 1\n",
    "\n",
    "    return gbr.predict([x6])[0]"
   ]
  },
  {
   "cell_type": "code",
   "execution_count": 46,
   "metadata": {},
   "outputs": [
    {
     "data": {
      "text/plain": [
       "31.435188725565208"
      ]
     },
     "execution_count": 46,
     "metadata": {},
     "output_type": "execute_result"
    }
   ],
   "source": [
    "predict_delay6(2,25,'Wednesday','EV','PIT','ORD',102.0,413,49.0,6,0,6,42)"
   ]
  },
  {
   "cell_type": "code",
   "execution_count": 47,
   "metadata": {},
   "outputs": [
    {
     "data": {
      "text/plain": [
       "33.84677260912244"
      ]
     },
     "execution_count": 47,
     "metadata": {},
     "output_type": "execute_result"
    }
   ],
   "source": [
    "predict_delay6(5,10,'Sunday','MQ','LGA','CHO',90.0,305,42.0,12,40,14,10)"
   ]
  },
  {
   "cell_type": "code",
   "execution_count": 48,
   "metadata": {},
   "outputs": [
    {
     "data": {
      "text/plain": [
       "-3.8137069232733474"
      ]
     },
     "execution_count": 48,
     "metadata": {},
     "output_type": "execute_result"
    }
   ],
   "source": [
    "predict_delay6(1,14,'Wednesday','US','IND','CLT',95.0,427,-14.0,15,30,17,5)"
   ]
  },
  {
   "cell_type": "code",
   "execution_count": 49,
   "metadata": {},
   "outputs": [],
   "source": [
    "import pickle\n",
    "with open ('gbr.pickle','wb') as f:\n",
    "    pickle.dump(gbr,f)"
   ]
  },
  {
   "cell_type": "code",
   "execution_count": 50,
   "metadata": {},
   "outputs": [],
   "source": [
    "import json\n",
    "columns={\n",
    "    'data_columns':[col.lower() for col in X1.columns]\n",
    "}\n",
    "with open ('columns.json','w') as f :\n",
    "    f.write(json.dumps(columns))"
   ]
  },
  {
   "cell_type": "code",
   "execution_count": null,
   "metadata": {},
   "outputs": [],
   "source": []
  }
 ],
 "metadata": {
  "kernelspec": {
   "display_name": "Python 3",
   "language": "python",
   "name": "python3"
  },
  "language_info": {
   "codemirror_mode": {
    "name": "ipython",
    "version": 3
   },
   "file_extension": ".py",
   "mimetype": "text/x-python",
   "name": "python",
   "nbconvert_exporter": "python",
   "pygments_lexer": "ipython3",
   "version": "3.7.4"
  }
 },
 "nbformat": 4,
 "nbformat_minor": 2
}
